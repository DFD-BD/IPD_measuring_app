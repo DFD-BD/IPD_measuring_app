{
 "cells": [
  {
   "cell_type": "code",
   "execution_count": 1,
   "metadata": {},
   "outputs": [],
   "source": [
    "from f_measurents import *"
   ]
  },
  {
   "cell_type": "code",
   "execution_count": 2,
   "metadata": {},
   "outputs": [
    {
     "name": "stdout",
     "output_type": "stream",
     "text": [
      "WARNING: requirements.txt already exists, use --force to overwrite it\n"
     ]
    }
   ],
   "source": [
    "!pipreqs ."
   ]
  },
  {
   "cell_type": "code",
   "execution_count": 3,
   "metadata": {},
   "outputs": [],
   "source": [
    "# Config\n",
    "import config\n",
    "landmarks = config.landmarks\n",
    "top_to_bottom_angle_ref = config.top_to_bottom_angle_ref\n",
    "top_to_bottom_angle_max_deviation = config.top_to_bottom_angle_max_deviation\n",
    "left_to_right_angle_ref = config.left_to_right_angle_ref\n",
    "left_to_right_angle_max_deviation_perc = config.left_to_right_angle_max_deviation_perc\n",
    "area_ratio_right_to_left_max_deviation_perc = config.area_ratio_right_to_left_max_deviation_perc\n",
    "area_ratio_right_to_left_ref = config.area_ratio_right_to_left_ref\n",
    "interactive_plot = True\n",
    "real_face_width = 14.3"
   ]
  },
  {
   "cell_type": "code",
   "execution_count": 4,
   "metadata": {},
   "outputs": [
    {
     "name": "stdout",
     "output_type": "stream",
     "text": [
      "INFO: Successfully saved requirements file in ./requirements.txt\n"
     ]
    }
   ],
   "source": [
    "!pipreqs . --force"
   ]
  },
  {
   "cell_type": "code",
   "execution_count": 5,
   "metadata": {},
   "outputs": [
    {
     "ename": "SyntaxError",
     "evalue": "invalid syntax (3319058519.py, line 1)",
     "output_type": "error",
     "traceback": [
      "\u001b[0;36m  File \u001b[0;32m\"/var/folders/tl/yx271fpd4sd_d224zzcb65840000gp/T/ipykernel_24249/3319058519.py\"\u001b[0;36m, line \u001b[0;32m1\u001b[0m\n\u001b[0;31m    stop!\u001b[0m\n\u001b[0m        ^\u001b[0m\n\u001b[0;31mSyntaxError\u001b[0m\u001b[0;31m:\u001b[0m invalid syntax\n"
     ]
    }
   ],
   "source": [
    "stop!"
   ]
  },
  {
   "attachments": {},
   "cell_type": "markdown",
   "metadata": {},
   "source": [
    "# Static Image"
   ]
  },
  {
   "cell_type": "code",
   "execution_count": null,
   "metadata": {},
   "outputs": [],
   "source": [
    "image_path = '/Users/danielfiuzadosil/Documents/GitHub_Repo/Data-Science/Tools/Image_Processing/gradio_app/v1/images/good/2.jpeg'\n",
    "# image_path = '/Users/danielfiuzadosil/Documents/GitHub_Repo/Data-Science/Tools/Image_Processing/gradio_app/v1/images/image.jpg'"
   ]
  },
  {
   "cell_type": "code",
   "execution_count": null,
   "metadata": {},
   "outputs": [],
   "source": [
    "image = cv2.imread(image_path)\n",
    "# exif = extract_exif_metadata(image_path)\n",
    "# focal_length, focal_length_in_35mm_film = focal_length_metadata(image_path)\n",
    "# print(focal_length, focal_length_in_35mm_film)\n",
    "image = process_image(image, landmarks, top_to_bottom_angle_ref, top_to_bottom_angle_max_deviation, left_to_right_angle_ref, left_to_right_angle_max_deviation_perc, area_ratio_right_to_left_max_deviation_perc, area_ratio_right_to_left_ref)\n",
    "plt.axis('off')\n",
    "plt.imshow(image)\n",
    "cv2.imwrite('output/processing_image.jpg', image_rgb_to_bgr(image)) "
   ]
  },
  {
   "cell_type": "code",
   "execution_count": null,
   "metadata": {},
   "outputs": [],
   "source": [
    "if interactive_plot == True:\n",
    "    image = cv2.imread(image_path)\n",
    "    image = image_bgr_to_rgb(image)\n",
    "    result, mesh_points = face_mesh_points(image)\n",
    "    fig = mesh_points_interactive_plot_with_image(mesh_points, image_path)\n",
    "    fig.show()\n",
    "    fig = mesh_points_interactive_plot(mesh_points)\n",
    "    fig.show()"
   ]
  },
  {
   "attachments": {},
   "cell_type": "markdown",
   "metadata": {},
   "source": [
    "# Webcam"
   ]
  },
  {
   "cell_type": "code",
   "execution_count": null,
   "metadata": {},
   "outputs": [],
   "source": [
    "cap = cv2.VideoCapture(0)"
   ]
  },
  {
   "cell_type": "code",
   "execution_count": null,
   "metadata": {},
   "outputs": [],
   "source": [
    "# Check if the webcam is opened correctly\n",
    "if not cap.isOpened():\n",
    "    raise IOError(\"Cannot open webcam\")\n",
    "while True:\n",
    "    ret, frame = cap.read()\n",
    "    cv2.imshow(\"Input\", image_rgb_to_bgr(process_image(frame, landmarks, top_to_bottom_angle_ref, top_to_bottom_angle_max_deviation, left_to_right_angle_ref, left_to_right_angle_max_deviation_perc, area_ratio_right_to_left_max_deviation_perc, area_ratio_right_to_left_ref)))\n",
    "    c = cv2.waitKey(1)\n",
    "\n",
    "cap.release()\n",
    "cv2.destroyAllWindows()"
   ]
  },
  {
   "cell_type": "code",
   "execution_count": null,
   "metadata": {},
   "outputs": [],
   "source": []
  }
 ],
 "metadata": {
  "kernelspec": {
   "display_name": "base",
   "language": "python",
   "name": "python3"
  },
  "language_info": {
   "codemirror_mode": {
    "name": "ipython",
    "version": 3
   },
   "file_extension": ".py",
   "mimetype": "text/x-python",
   "name": "python",
   "nbconvert_exporter": "python",
   "pygments_lexer": "ipython3",
   "version": "3.9.7"
  },
  "orig_nbformat": 4,
  "vscode": {
   "interpreter": {
    "hash": "80e84fd967207d73b61aa430605dad8c12793944af9d1a99037915e6e7461b10"
   }
  }
 },
 "nbformat": 4,
 "nbformat_minor": 2
}
