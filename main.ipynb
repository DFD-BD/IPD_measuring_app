{
 "cells": [
  {
   "cell_type": "code",
   "execution_count": null,
   "metadata": {},
   "outputs": [],
   "source": [
    "from f_measurents import *"
   ]
  },
  {
   "cell_type": "code",
   "execution_count": null,
   "metadata": {},
   "outputs": [],
   "source": [
    "# Config\n",
    "import config\n",
    "import os\n",
    "landmarks = config.landmarks\n",
    "top_to_bottom_angle_ref = config.top_to_bottom_angle_ref\n",
    "top_to_bottom_angle_max_deviation = config.top_to_bottom_angle_max_deviation\n",
    "left_to_right_angle_ref = config.left_to_right_angle_ref\n",
    "left_to_right_angle_max_deviation_perc = config.left_to_right_angle_max_deviation_perc\n",
    "area_ratio_right_to_left_max_deviation_perc = config.area_ratio_right_to_left_max_deviation_perc\n",
    "area_ratio_right_to_left_ref = config.area_ratio_right_to_left_ref\n",
    "# \n",
    "interactive_plot = False"
   ]
  },
  {
   "attachments": {},
   "cell_type": "markdown",
   "metadata": {},
   "source": [
    "# Static Image"
   ]
  },
  {
   "cell_type": "code",
   "execution_count": null,
   "metadata": {},
   "outputs": [],
   "source": [
    "image_path = os.getcwd() + '/input/2.jpeg'\n",
    "image_path"
   ]
  },
  {
   "cell_type": "code",
   "execution_count": null,
   "metadata": {},
   "outputs": [],
   "source": [
    "image = cv2.imread(image_path)\n",
    "image = process_image(image, landmarks, top_to_bottom_angle_ref, top_to_bottom_angle_max_deviation, left_to_right_angle_ref, left_to_right_angle_max_deviation_perc, area_ratio_right_to_left_max_deviation_perc, area_ratio_right_to_left_ref)\n",
    "plt.axis('off')\n",
    "plt.imshow(image_rgb_to_bgr(image))\n",
    "cv2.imwrite('output/processing_image.jpg', image_rgb_to_bgr(image)) "
   ]
  },
  {
   "cell_type": "code",
   "execution_count": null,
   "metadata": {},
   "outputs": [],
   "source": [
    "if interactive_plot == True:\n",
    "    image = cv2.imread(image_path)\n",
    "    image = image_bgr_to_rgb(image)\n",
    "    result, mesh_points = face_mesh_points(image)\n",
    "    fig = mesh_points_interactive_plot_with_image(mesh_points, image_path)\n",
    "    fig.show()\n",
    "    fig = mesh_points_interactive_plot(mesh_points)\n",
    "    fig.show()"
   ]
  },
  {
   "attachments": {},
   "cell_type": "markdown",
   "metadata": {},
   "source": [
    "# Webcam"
   ]
  },
  {
   "cell_type": "code",
   "execution_count": null,
   "metadata": {},
   "outputs": [],
   "source": [
    "cap = cv2.VideoCapture(0)\n",
    "if not cap.isOpened():\n",
    "    raise IOError(\"Cannot open webcam\")\n",
    "while True:\n",
    "    ret, frame = cap.read()\n",
    "    frame_processed = process_image(frame, landmarks, top_to_bottom_angle_ref, top_to_bottom_angle_max_deviation, left_to_right_angle_ref, left_to_right_angle_max_deviation_perc, area_ratio_right_to_left_max_deviation_perc, area_ratio_right_to_left_ref)\n",
    "    cv2.imshow(\"Input\", frame_processed)\n",
    "    c = cv2.waitKey(1)\n",
    "\n",
    "cap.release()\n",
    "cv2.destroyAllWindows()"
   ]
  }
 ],
 "metadata": {
  "kernelspec": {
   "display_name": "base",
   "language": "python",
   "name": "python3"
  },
  "language_info": {
   "codemirror_mode": {
    "name": "ipython",
    "version": 3
   },
   "file_extension": ".py",
   "mimetype": "text/x-python",
   "name": "python",
   "nbconvert_exporter": "python",
   "pygments_lexer": "ipython3",
   "version": "3.9.7"
  },
  "vscode": {
   "interpreter": {
    "hash": "80e84fd967207d73b61aa430605dad8c12793944af9d1a99037915e6e7461b10"
   }
  }
 },
 "nbformat": 4,
 "nbformat_minor": 2
}
