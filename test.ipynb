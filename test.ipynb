{
 "cells": [
  {
   "cell_type": "code",
   "execution_count": null,
   "metadata": {},
   "outputs": [],
   "source": [
    "from f_measurents import *"
   ]
  },
  {
   "cell_type": "code",
   "execution_count": null,
   "metadata": {},
   "outputs": [],
   "source": [
    "# Config\n",
    "import config\n",
    "import os\n",
    "landmarks = config.landmarks\n",
    "top_to_bottom_angle_ref = config.top_to_bottom_angle_ref\n",
    "top_to_bottom_angle_max_deviation = config.top_to_bottom_angle_max_deviation\n",
    "left_to_right_angle_ref = config.left_to_right_angle_ref\n",
    "left_to_right_angle_max_deviation_perc = config.left_to_right_angle_max_deviation_perc\n",
    "area_ratio_right_to_left_max_deviation_perc = config.area_ratio_right_to_left_max_deviation_perc\n",
    "area_ratio_right_to_left_ref = config.area_ratio_right_to_left_ref\n",
    "# \n",
    "interactive_plot = True"
   ]
  },
  {
   "attachments": {},
   "cell_type": "markdown",
   "metadata": {},
   "source": [
    "# Static Image"
   ]
  },
  {
   "cell_type": "code",
   "execution_count": null,
   "metadata": {},
   "outputs": [],
   "source": [
    "image_path = os.getcwd() + '/input/2.jpeg'\n",
    "image_path\n"
   ]
  },
  {
   "cell_type": "code",
   "execution_count": null,
   "metadata": {},
   "outputs": [],
   "source": [
    "image = cv2.imread(image_path)\n",
    "plt.axis('off')\n",
    "plt.imshow(image_rgb_to_bgr(image))"
   ]
  },
  {
   "cell_type": "code",
   "execution_count": null,
   "metadata": {},
   "outputs": [],
   "source": [
    "image = image_bgr_to_rgb(image)\n",
    "# Properties of lines\n",
    "global font_scale, font_thickness, line_width, point_width, thickness_oval, x_position_0, y_position_v\n",
    "n_lines = 5\n",
    "scale = 1\n",
    "height, width = height_width_image(image)\n",
    "font_scale, font_thickness, line_width, point_width, thickness_oval, x_position_0, y_position_v = put_text_args(height, width, n_lines, scale)\n",
    "print(point_width)\n",
    "# Getting face lanmarks + iris position\n",
    "result, mesh_points = face_mesh_points(image)\n",
    "iris_position, iris_radius = find_iris_location(mesh_points,landmarks)\n",
    "# Measuring properties\n",
    "ipd_px = get_ipd_px(iris_position)\n",
    "width_face_px, height_face_px = get_face_dimensions_px(mesh_points, landmarks)\n",
    "    # distance_camera_to_face = distance_camera_to_face_calculator(focal_length, real_face_width, width_face_px)\n",
    "top_to_bottom_angle = get_top_to_bottom_angle(mesh_points, landmarks)\n",
    "left_to_right_angle = get_left_to_right_angle(mesh_points, landmarks)\n",
    "left_cheek_to_nose_angle = get_left_cheek_to_nose_angle(mesh_points, landmarks)\n",
    "nose_to_right_cheek_angle = get_nose_to_right_cheek_angle(mesh_points, landmarks)\n",
    "area_px_left_silhoutte = area_px_left_silhoutte_calc(mesh_points, landmarks)\n",
    "area_px_right_silhoutte = area_px_right_silhoutte_calc(mesh_points, landmarks)\n",
    "area_right_to_left_silhoutte = (1 - (area_px_right_silhoutte/area_px_left_silhoutte))*100\n",
    "# Printing objects\n",
    "image = print_face_mesh_image(image, result)\n",
    "image = print_iris_location(image, mesh_points, landmarks)\n",
    "image = print_center_iris(image, iris_position)\n",
    "image = print_line_left_to_right_iris(image, iris_position)\n",
    "image = print_line_top_to_bottom(image, mesh_points, landmarks)\n",
    "image = print_line_left_to_right(image, mesh_points, landmarks)\n",
    "image = print_line_left_cheek_to_nose(image, mesh_points, landmarks)\n",
    "image = print_line_nose_to_right_cheek(image, mesh_points, landmarks)\n",
    "image = print_silhouette(image, mesh_points, landmarks)\n",
    "image = print_rectangle_card_area(image, mesh_points, landmarks)\n",
    "image = print_right_silhouette(image, mesh_points, landmarks)\n",
    "image = print_left_silhouette(image, mesh_points, landmarks)\n",
    "image = print_face_oval(image)\n",
    "# Screenprinting data and checks\n",
    "# \n",
    "image = screenprint_top_to_bottom_angle(image, top_to_bottom_angle, top_to_bottom_angle_ref, top_to_bottom_angle_max_deviation)\n",
    "image = screenprint_left_to_right_angle(image, left_to_right_angle, left_to_right_angle_ref, left_to_right_angle_max_deviation_perc)\n",
    "image = screenprint_area_right_to_left_silhoutte(image, area_right_to_left_silhoutte, area_ratio_right_to_left_ref, area_ratio_right_to_left_max_deviation_perc)\n",
    "image = screenprint_ipd_px(image, ipd_px)\n",
    "image = screenprint_nose_to_cheek(image,left_cheek_to_nose_angle,nose_to_right_cheek_angle)"
   ]
  },
  {
   "cell_type": "code",
   "execution_count": null,
   "metadata": {},
   "outputs": [],
   "source": [
    "plt.axis('off')\n",
    "plt.imshow(image)\n",
    "cv2.imwrite('output/processing_image.jpg', image_rgb_to_bgr(image)) "
   ]
  }
 ],
 "metadata": {
  "kernelspec": {
   "display_name": "base",
   "language": "python",
   "name": "python3"
  },
  "language_info": {
   "codemirror_mode": {
    "name": "ipython",
    "version": 3
   },
   "file_extension": ".py",
   "mimetype": "text/x-python",
   "name": "python",
   "nbconvert_exporter": "python",
   "pygments_lexer": "ipython3",
   "version": "3.9.7"
  },
  "vscode": {
   "interpreter": {
    "hash": "80e84fd967207d73b61aa430605dad8c12793944af9d1a99037915e6e7461b10"
   }
  }
 },
 "nbformat": 4,
 "nbformat_minor": 2
}
