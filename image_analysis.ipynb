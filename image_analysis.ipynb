{
 "cells": [
  {
   "cell_type": "code",
   "execution_count": 1,
   "metadata": {},
   "outputs": [],
   "source": [
    "from f_measurents import *\n",
    "import cv2\n",
    "import numpy as np\n",
    "import seaborn as sns\n",
    "import pandas as pd\n",
    "import os\n",
    "from os import listdir\n",
    "from os.path import isfile, join"
   ]
  },
  {
   "cell_type": "code",
   "execution_count": null,
   "metadata": {},
   "outputs": [],
   "source": [
    "# path_to_sample_photos = '/Users/danielfiuzadosil/Documents/GitHub_Repo/IPD_measuring_app/photos'\n",
    "path_to_good_photos = '/Users/danielfiuzadosil/Documents/GitHub_Repo/IPD_measuring_app/photos/GOOD'\n",
    "path_to_bad_photos = '/Users/danielfiuzadosil/Documents/GitHub_Repo/IPD_measuring_app/photos/BAD'"
   ]
  },
  {
   "cell_type": "code",
   "execution_count": null,
   "metadata": {},
   "outputs": [],
   "source": [
    "def absolute_paths_to_files(directory):\n",
    "    paths = []\n",
    "    for root, dirs, files in os.walk(os.path.abspath(directory)):\n",
    "        for file in files:\n",
    "            paths.append(str(os.path.join(root, file)))\n",
    "    return paths"
   ]
  },
  {
   "cell_type": "code",
   "execution_count": null,
   "metadata": {},
   "outputs": [],
   "source": [
    "import config\n",
    "import os\n",
    "landmarks = config.landmarks\n",
    "top_to_bottom_angle_ref = config.top_to_bottom_angle_ref\n",
    "top_to_bottom_angle_max_deviation = config.top_to_bottom_angle_max_deviation\n",
    "left_to_right_angle_ref = config.left_to_right_angle_ref\n",
    "left_to_right_angle_max_deviation_perc = config.left_to_right_angle_max_deviation_perc\n",
    "area_ratio_right_to_left_max_deviation_perc = config.area_ratio_right_to_left_max_deviation_perc\n",
    "area_ratio_right_to_left_ref = config.area_ratio_right_to_left_ref"
   ]
  },
  {
   "cell_type": "code",
   "execution_count": null,
   "metadata": {},
   "outputs": [],
   "source": [
    "list_of_good_photos_filename = [f for f in listdir(path_to_good_photos) if isfile(join(path_to_good_photos, f))]\n",
    "list_of_bad_photos_filename = [f for f in listdir(path_to_bad_photos) if isfile(join(path_to_bad_photos, f))]\n",
    "list_of_photos_filename = list_of_good_photos_filename + list_of_bad_photos_filename\n",
    "# \n",
    "list_of_good_photos_path = absolute_paths_to_files(path_to_good_photos)\n",
    "list_of_bad_photos_path = absolute_paths_to_files(path_to_bad_photos)\n",
    "list_of_photos_path = list_of_good_photos_path + list_of_bad_photos_path\n",
    "# \n",
    "list_target_good = [\"Good\"] * len(list_of_good_photos_filename)\n",
    "list_target_bad = [\"Bad\"] * len(list_of_bad_photos_filename)\n",
    "list_target = list_target_good + list_target_bad\n",
    "#\n",
    "df = pd.DataFrame()\n",
    "df[\"filename\"] = list_of_photos_filename\n",
    "df[\"filepath\"] = list_of_photos_path\n",
    "df[\"target\"] = list_target\n",
    "df"
   ]
  },
  {
   "cell_type": "code",
   "execution_count": null,
   "metadata": {},
   "outputs": [],
   "source": [
    "df[0:3]"
   ]
  },
  {
   "cell_type": "code",
   "execution_count": null,
   "metadata": {},
   "outputs": [],
   "source": [
    "time_list = []\n",
    "DISPLAY = False\n",
    "for i in range(len(df)):\n",
    "    st = time.time()\n",
    "    # Retrieve image\n",
    "    df_temp = df.iloc[i]\n",
    "    image = cv2.imread(df_temp['filepath'])\n",
    "    if type(image) is not np.ndarray:\n",
    "        print(\"Not a numpy array - skipping this photo!\")\n",
    "        continue\n",
    "    # Process and mesaure image\n",
    "    height, width = height_width_image(image)\n",
    "    image_measured, ipd_px, width_face_px, height_face_px, top_to_bottom_angle, left_to_right_angle, left_cheek_to_nose_angle, nose_to_right_cheek_angle, area_px_left_silhoutte, area_px_right_silhoutte, area_right_to_left_silhoutte = measure_image(image, landmarks)\n",
    "    if DISPLAY == True:\n",
    "        plt.imshow(image_bgr_to_rgb(image_measured))\n",
    "        plt.show()\n",
    "    # \n",
    "    df.at[i,'ipd_px'] = ipd_px\n",
    "    df.at[i,'width_face_px'] = width_face_px\n",
    "    df.at[i,'height_face_px'] = height_face_px\n",
    "    df.at[i, 'top_to_bottom_angle'] = top_to_bottom_angle\n",
    "    df.at[i,'left_to_right_angle'] = left_to_right_angle\n",
    "    df.at[i,'left_cheek_to_nose_angle'] = left_cheek_to_nose_angle\n",
    "    df.at[i,'nose_to_right_cheek_angle'] = nose_to_right_cheek_angle\n",
    "    df.at[i,'area_px_left_silhoutte'] = area_px_left_silhoutte\n",
    "    df.at[i,'area_px_right_silhoutte'] = area_px_right_silhoutte\n",
    "    df.at[i,'area_right_to_left_silhoutte'] = area_right_to_left_silhoutte\n",
    "    df.at[i,'img_height'] = height\n",
    "    df.at[i,'img_width'] = width\n",
    "    et = time.time()\n",
    "    elapse_time = et - st\n",
    "    print(elapse_time)\n",
    "    time_list.append(elapse_time)"
   ]
  },
  {
   "cell_type": "code",
   "execution_count": null,
   "metadata": {},
   "outputs": [],
   "source": [
    "filepath = 'photos_statisitcs_' + str(len(df)) + '.csv'\n",
    "print(filepath)\n",
    "df.to_csv(filepath, index = False)"
   ]
  },
  {
   "cell_type": "code",
   "execution_count": null,
   "metadata": {},
   "outputs": [],
   "source": []
  },
  {
   "cell_type": "code",
   "execution_count": null,
   "metadata": {},
   "outputs": [],
   "source": [
    "df['abs_top_to_bottom_angle'] = abs(df['top_to_bottom_angle'])"
   ]
  },
  {
   "cell_type": "code",
   "execution_count": null,
   "metadata": {},
   "outputs": [],
   "source": [
    "# Plot\n",
    "plt.figure()\n",
    "sns.histplot(df, x = 'left_to_right_angle', stat='density',multiple=\"stack\",kde=False, bins=10, alpha = 0.3)\n",
    "sns.kdeplot(data=df, x=\"left_to_right_angle\")\n",
    "plt.xlabel(\"left_to_right_angle [degrees]\")\n",
    "plt.ylabel(\"Density\")"
   ]
  },
  {
   "cell_type": "code",
   "execution_count": null,
   "metadata": {},
   "outputs": [],
   "source": [
    "# Plot\n",
    "plt.figure()\n",
    "sns.histplot(df, x='abs_top_to_bottom_angle', stat='density',multiple=\"stack\",kde=False, bins=10, alpha = 0.3)\n",
    "sns.kdeplot(data=df, x=\"abs_top_to_bottom_angle\")\n",
    "plt.xlabel(\"top_to_bottom_angle [degrees]\")\n",
    "plt.ylabel(\"Density\")"
   ]
  },
  {
   "cell_type": "code",
   "execution_count": null,
   "metadata": {},
   "outputs": [],
   "source": [
    "# Plot\n",
    "plt.figure()\n",
    "sns.histplot(df, x = 'ipd_px', stat='density',multiple=\"stack\",kde=False, bins=10, alpha = 0.3)\n",
    "sns.kdeplot(data=df, x=\"ipd_px\")\n",
    "plt.xlabel(\"IPD [px]\")\n",
    "plt.ylabel(\"Density\")"
   ]
  },
  {
   "cell_type": "code",
   "execution_count": null,
   "metadata": {},
   "outputs": [],
   "source": [
    "# Plot\n",
    "plt.figure()\n",
    "sns.histplot(df, x = 'width_face_px', stat='density',multiple=\"stack\",kde=False, bins=10, alpha = 0.3)\n",
    "sns.kdeplot(data=df, x=\"width_face_px\")\n",
    "plt.xlabel(\"width_face_px [px]\")\n",
    "plt.ylabel(\"Density\")"
   ]
  },
  {
   "cell_type": "code",
   "execution_count": null,
   "metadata": {},
   "outputs": [],
   "source": []
  }
 ],
 "metadata": {
  "kernelspec": {
   "display_name": "base",
   "language": "python",
   "name": "python3"
  },
  "language_info": {
   "codemirror_mode": {
    "name": "ipython",
    "version": 3
   },
   "file_extension": ".py",
   "mimetype": "text/x-python",
   "name": "python",
   "nbconvert_exporter": "python",
   "pygments_lexer": "ipython3",
   "version": "3.9.7"
  },
  "orig_nbformat": 4,
  "vscode": {
   "interpreter": {
    "hash": "80e84fd967207d73b61aa430605dad8c12793944af9d1a99037915e6e7461b10"
   }
  }
 },
 "nbformat": 4,
 "nbformat_minor": 2
}
