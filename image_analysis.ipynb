{
 "cells": [
  {
   "cell_type": "code",
   "execution_count": null,
   "metadata": {},
   "outputs": [],
   "source": [
    "import pandas as pd\n",
    "import seaborn as sns\n",
    "import cv2\n",
    "import matplotlib.pyplot as plt"
   ]
  },
  {
   "attachments": {},
   "cell_type": "markdown",
   "metadata": {},
   "source": [
    "# Analysis"
   ]
  },
  {
   "cell_type": "code",
   "execution_count": null,
   "metadata": {},
   "outputs": [],
   "source": [
    "filepath = '/Users/danielfiuzadosil/Documents/GitHub_Repo/IPD_measuring_app/photos/output/photos_statistics_1259.csv'"
   ]
  },
  {
   "cell_type": "code",
   "execution_count": null,
   "metadata": {},
   "outputs": [],
   "source": [
    "df = pd.read_csv(filepath)"
   ]
  },
  {
   "cell_type": "code",
   "execution_count": null,
   "metadata": {},
   "outputs": [],
   "source": [
    "print(len(df))\n",
    "df.columns"
   ]
  },
  {
   "cell_type": "code",
   "execution_count": null,
   "metadata": {},
   "outputs": [],
   "source": [
    "df['target'].value_counts()"
   ]
  },
  {
   "cell_type": "code",
   "execution_count": null,
   "metadata": {},
   "outputs": [],
   "source": [
    "df['resolution_px'] = (df['img_height']*df['img_width'])\n",
    "df['resolution_mpx'] = df['resolution_px'].div(pow(10,6))\n",
    "df['top_to_bottom_angle_abs'] = abs(df['top_to_bottom_angle'])\n",
    "df['silhoutte'] = df['area_px_left_silhoutte'] + df['area_px_right_silhoutte']\n",
    "df['area_face_to_size'] = df['silhoutte']/df['resolution_px']\n",
    "df['height_to_width_face_ratio'] = df['height_face_px']/df['width_face_px']\n",
    "for i in range(len(df['top_to_bottom_angle'])):\n",
    "    angle = df['top_to_bottom_angle'].iloc[i]\n",
    "    if angle > 0:\n",
    "        angle = angle\n",
    "    else:\n",
    "        angle = 180 + angle\n",
    "    df.at[i,'top_to_bottom_angle_corrected'] = angle\n",
    "    df.at[i,'top_to_bottom_angle_offset'] = angle - 90"
   ]
  },
  {
   "cell_type": "code",
   "execution_count": null,
   "metadata": {},
   "outputs": [],
   "source": [
    "print(df['area_right_to_left_silhoutte'].mean())\n",
    "print(df['area_right_to_left_silhoutte'].std())"
   ]
  },
  {
   "cell_type": "code",
   "execution_count": null,
   "metadata": {},
   "outputs": [],
   "source": [
    "df[df['area_right_to_left_silhoutte']>16]"
   ]
  },
  {
   "cell_type": "code",
   "execution_count": null,
   "metadata": {},
   "outputs": [],
   "source": [
    "print(df[df['area_right_to_left_silhoutte']>16]['area_right_to_left_silhoutte'])"
   ]
  },
  {
   "cell_type": "code",
   "execution_count": null,
   "metadata": {},
   "outputs": [],
   "source": [
    "def plot_and_save_histogram(df, column):\n",
    "    output_path = 'photos/output/plots/'\n",
    "    # \n",
    "    filepath = output_path + column + '.pdf'\n",
    "    plt.figure()\n",
    "    sns.histplot(df, x = column, stat='density',multiple=\"stack\",kde=False, bins=50, alpha = 0.3)\n",
    "    sns.kdeplot(data=df, x= column)\n",
    "    plt.xlabel(column)\n",
    "    plt.ylabel(\"Density\")\n",
    "    plt.savefig(filepath,transparent=True,bbox_inches='tight')\n"
   ]
  },
  {
   "cell_type": "code",
   "execution_count": null,
   "metadata": {},
   "outputs": [],
   "source": [
    "def plot_and_save_histogram_with_category(df, column, category = 'target'):\n",
    "    output_path = 'photos/output/plots/'\n",
    "    # \n",
    "    filepath = output_path + column + '_good_vs_bad.pdf'\n",
    "    plt.figure()\n",
    "    sns.histplot(df, x = column, hue=category, stat='density',multiple=\"stack\",kde=False, bins=50, alpha = 0.3)\n",
    "    sns.kdeplot(data=df, x= column, hue=category)\n",
    "    plt.xlabel(column)\n",
    "    plt.ylabel(\"Density\")\n",
    "    plt.savefig(filepath,transparent=True,bbox_inches='tight')"
   ]
  },
  {
   "cell_type": "code",
   "execution_count": null,
   "metadata": {},
   "outputs": [],
   "source": [
    "def get_percentiles(df, column):\n",
    "    quant_5, quant_25, quant_50, quant_75, quant_95 = df[column].quantile(0.05), df[column].quantile(0.25), df[column].quantile(0.5), df[column].quantile(0.75), df[column].quantile(0.95)\n",
    "    return quant_5, quant_25, quant_50, quant_75, quant_95"
   ]
  },
  {
   "cell_type": "code",
   "execution_count": null,
   "metadata": {},
   "outputs": [],
   "source": [
    "def plot_and_save_histogram_with_percentiles(df, column):\n",
    "    output_path = 'photos/output/plots/'\n",
    "    # \n",
    "    fig, ax = plt.subplots()\n",
    "    sns.histplot(df, x = column, stat='density',multiple=\"stack\",kde=False, bins=50, alpha = 0.3)\n",
    "    # sns.kdeplot(data=df, x= column)\n",
    "    plt.xlabel(column)\n",
    "    plt.ylabel(\"Density\")\n",
    "    y_limit = plt.gca().get_ylim()\n",
    "    pos_lines = y_limit[1]*0.8\n",
    "    pos_text = y_limit[1]*0.9\n",
    "    # Calculate percentiles\n",
    "    quant_5, quant_25, quant_50, quant_75, quant_95 = get_percentiles(df, column)\n",
    "    alpha_val_line = 0.8\n",
    "    quants = [[quant_5, alpha_val_line, pos_lines], [quant_25, alpha_val_line, pos_lines], [quant_50, alpha_val_line, pos_lines],  [quant_75, alpha_val_line, pos_lines], [quant_95, alpha_val_line, pos_lines]] # [quantile, opacity, length]\n",
    "    # Lines\n",
    "    for i in quants:\n",
    "        ax.axvline(i[0], alpha = i[1], ymax = i[2], linestyle = \":\", color = 'k')\n",
    "    # Text\n",
    "    alpha_val = 1\n",
    "    size_val = 10\n",
    "    ax.text(quant_5, pos_text, \"|5th\", size = size_val, alpha = alpha_val)\n",
    "    ax.text(quant_25, pos_text, \"|25th\", size = size_val, alpha = alpha_val)\n",
    "    ax.text(quant_50, pos_text, \"|50th\", size = size_val, alpha = alpha_val)\n",
    "    ax.text(quant_75, pos_text, \"|75th\", size = size_val, alpha = alpha_val)\n",
    "    ax.text(quant_95, pos_text, \"|95th\", size = size_val, alpha = alpha_val)\n",
    "    # \n",
    "    filepath = output_path + column + '_percentiles.pdf'\n",
    "    plt.savefig(filepath,transparent=True,bbox_inches='tight')"
   ]
  },
  {
   "cell_type": "code",
   "execution_count": null,
   "metadata": {},
   "outputs": [],
   "source": [
    "plot_and_save_histogram_with_percentiles(df, 'height_to_width_face_ratio')\n",
    "plot_and_save_histogram_with_percentiles(df, 'area_face_to_size')\n",
    "plot_and_save_histogram_with_percentiles(df, 'resolution_mpx')\n",
    "plot_and_save_histogram_with_percentiles(df, 'img_height')\n",
    "plot_and_save_histogram_with_percentiles(df, 'img_width')\n",
    "plot_and_save_histogram_with_percentiles(df, 'left_to_right_angle')\n",
    "plot_and_save_histogram_with_percentiles(df, 'top_to_bottom_angle_corrected')\n",
    "plot_and_save_histogram_with_percentiles(df, 'top_to_bottom_angle_offset')\n",
    "plot_and_save_histogram_with_percentiles(df, 'nose_to_right_cheek_angle')\n",
    "plot_and_save_histogram_with_percentiles(df, 'left_cheek_to_nose_angle')\n",
    "plot_and_save_histogram_with_percentiles(df, 'ipd_px')\n",
    "plot_and_save_histogram_with_percentiles(df, 'width_face_px')\n",
    "plot_and_save_histogram_with_percentiles(df, 'height_face_px')\n",
    "plot_and_save_histogram_with_percentiles(df, 'area_right_to_left_silhoutte')\n",
    "plot_and_save_histogram_with_percentiles(df, 'area_silhoutte')"
   ]
  },
  {
   "cell_type": "code",
   "execution_count": null,
   "metadata": {},
   "outputs": [],
   "source": [
    "plot_and_save_histogram_with_category(df, 'height_to_width_face_ratio')\n",
    "plot_and_save_histogram_with_category(df, 'area_face_to_size')\n",
    "plot_and_save_histogram_with_category(df, 'resolution_mpx')\n",
    "plot_and_save_histogram_with_category(df, 'img_height')\n",
    "plot_and_save_histogram_with_category(df, 'img_width')\n",
    "plot_and_save_histogram_with_category(df, 'left_to_right_angle')\n",
    "plot_and_save_histogram_with_category(df, 'top_to_bottom_angle_corrected')\n",
    "plot_and_save_histogram_with_category(df, 'top_to_bottom_angle_offset')\n",
    "plot_and_save_histogram_with_category(df, 'nose_to_right_cheek_angle')\n",
    "plot_and_save_histogram_with_category(df, 'left_cheek_to_nose_angle')\n",
    "plot_and_save_histogram_with_category(df, 'ipd_px')\n",
    "plot_and_save_histogram_with_category(df, 'width_face_px')\n",
    "plot_and_save_histogram_with_category(df, 'height_face_px')\n",
    "plot_and_save_histogram_with_category(df, 'area_right_to_left_silhoutte')\n",
    "plot_and_save_histogram_with_category(df, 'area_silhoutte')"
   ]
  },
  {
   "cell_type": "code",
   "execution_count": null,
   "metadata": {},
   "outputs": [],
   "source": [
    "plot_and_save_histogram(df, 'height_to_width_face_ratio')\n",
    "plot_and_save_histogram(df, 'area_face_to_size')\n",
    "plot_and_save_histogram(df, 'resolution_mpx')\n",
    "plot_and_save_histogram(df, 'img_height')\n",
    "plot_and_save_histogram(df, 'img_width')\n",
    "plot_and_save_histogram(df, 'left_to_right_angle')\n",
    "plot_and_save_histogram(df, 'top_to_bottom_angle_corrected')\n",
    "plot_and_save_histogram(df, 'top_to_bottom_angle_offset')\n",
    "plot_and_save_histogram(df, 'nose_to_right_cheek_angle')\n",
    "plot_and_save_histogram(df, 'left_cheek_to_nose_angle')\n",
    "plot_and_save_histogram(df, 'ipd_px')\n",
    "plot_and_save_histogram(df, 'width_face_px')\n",
    "plot_and_save_histogram(df, 'height_face_px')\n",
    "plot_and_save_histogram(df, 'area_right_to_left_silhoutte')\n",
    "plot_and_save_histogram(df, 'area_silhoutte')"
   ]
  },
  {
   "cell_type": "code",
   "execution_count": null,
   "metadata": {},
   "outputs": [],
   "source": [
    "from scipy.stats import pearsonr\n",
    "def reg_coef(x,y,label=None,color=None,**kwargs):\n",
    "    ax = plt.gca()\n",
    "    r,p = pearsonr(x,y)\n",
    "    ax.annotate('r = {:.2f}'.format(r), xy=(0.5,0.5), xycoords='axes fraction', ha='center')\n",
    "    ax.set_axis_off()"
   ]
  },
  {
   "cell_type": "code",
   "execution_count": null,
   "metadata": {},
   "outputs": [],
   "source": [
    "pairplot = False"
   ]
  },
  {
   "cell_type": "code",
   "execution_count": null,
   "metadata": {},
   "outputs": [],
   "source": [
    "if pairplot == True:\n",
    "    g = sns.pairplot(df, hue='target',plot_kws=dict(alpha=0.3))\n",
    "    # # g.map_lower(sns.regplot)\n",
    "    # g.map_upper(reg_coef)\n",
    "    plt.savefig('photos/output/plots/pairplot.pdf')"
   ]
  },
  {
   "cell_type": "code",
   "execution_count": null,
   "metadata": {},
   "outputs": [],
   "source": [
    "# g = sns.pairplot(df, hue='target',plot_kws=dict(alpha=0.3))\n",
    "# # # g.map_lower(sns.regplot)\n",
    "# g.map_upper(reg_coef)\n",
    "# plt.savefig('photos/output/plots/pairplot_with_coeff.pdf')"
   ]
  },
  {
   "cell_type": "code",
   "execution_count": null,
   "metadata": {},
   "outputs": [],
   "source": []
  }
 ],
 "metadata": {
  "kernelspec": {
   "display_name": "base",
   "language": "python",
   "name": "python3"
  },
  "language_info": {
   "codemirror_mode": {
    "name": "ipython",
    "version": 3
   },
   "file_extension": ".py",
   "mimetype": "text/x-python",
   "name": "python",
   "nbconvert_exporter": "python",
   "pygments_lexer": "ipython3",
   "version": "3.9.7"
  },
  "vscode": {
   "interpreter": {
    "hash": "80e84fd967207d73b61aa430605dad8c12793944af9d1a99037915e6e7461b10"
   }
  }
 },
 "nbformat": 4,
 "nbformat_minor": 2
}
